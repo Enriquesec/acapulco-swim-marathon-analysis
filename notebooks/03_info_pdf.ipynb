{
 "cells": [
  {
   "cell_type": "code",
   "execution_count": 1,
   "metadata": {},
   "outputs": [],
   "source": [
    "# pip install PyPDF2"
   ]
  },
  {
   "cell_type": "code",
   "execution_count": 7,
   "metadata": {},
   "outputs": [
    {
     "name": "stdout",
     "output_type": "stream",
     "text": [
      "Datos procesados y guardados en 'processed_results.csv'\n"
     ]
    }
   ],
   "source": [
    "import re\n",
    "import pandas as pd\n",
    "from PyPDF2 import PdfReader\n",
    "\n",
    "# Leer el PDF\n",
    "pdf_path = \"../data/raw/Resultados-prem-Acapulco-2022.pdf\"\n",
    "reader = PdfReader(pdf_path)\n",
    "text = \"\"\n",
    "for page in reader.pages:\n",
    "    text += page.extract_text()\n",
    "\n",
    "# Expresión regular para capturar datos\n",
    "pattern = r\"(?P<city>[A-Za-z\\s]+)\\s+(?P<num>\\d+)\\s+(?P<name>[A-Za-z\\s]+)\\s+(?P<time>\\d+:\\d+\\.\\d)\\s+(?P<place>\\d+)\\s+(?P<bib>\\d+)\"\n",
    "matches = re.finditer(pattern, text)\n",
    "\n",
    "# Extraer datos\n",
    "data = []\n",
    "for match in matches:\n",
    "    data.append(match.groupdict())\n",
    "\n",
    "# Convertir a DataFrame\n",
    "df = pd.DataFrame(data)\n",
    "\n",
    "# Guardar como CSV\n",
    "df.to_csv(\"processed_results.csv\", index=False)\n",
    "print(\"Datos procesados y guardados en 'processed_results.csv'\")\n"
   ]
  }
 ],
 "metadata": {
  "kernelspec": {
   "display_name": "Python 3",
   "language": "python",
   "name": "python3"
  },
  "language_info": {
   "codemirror_mode": {
    "name": "ipython",
    "version": 3
   },
   "file_extension": ".py",
   "mimetype": "text/x-python",
   "name": "python",
   "nbconvert_exporter": "python",
   "pygments_lexer": "ipython3",
   "version": "3.12.0"
  }
 },
 "nbformat": 4,
 "nbformat_minor": 2
}
